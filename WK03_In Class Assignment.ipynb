{
 "cells": [
  {
   "cell_type": "code",
   "execution_count": null,
   "id": "b5732c93",
   "metadata": {},
   "outputs": [],
   "source": [
    "#Angela Spencer in class assignment"
   ]
  },
  {
   "cell_type": "code",
   "execution_count": 26,
   "id": "514fe458",
   "metadata": {},
   "outputs": [
    {
     "name": "stdout",
     "output_type": "stream",
     "text": [
      "a + b = 8\n",
      "a - b = -2\n",
      "a * b = 15\n",
      "a + b = 6\n",
      "a - b = zero\n",
      "a * b = 9\n"
     ]
    }
   ],
   "source": [
    "def newfunction(a,b):\n",
    "    ad = a+b\n",
    "    sb = a-b\n",
    "    pd = a*b\n",
    "    if ad == 0:\n",
    "        print(\"a + b = zero\")\n",
    "    else:\n",
    "        print(\"a + b = \" + str(ad)) \n",
    "              \n",
    "    if sb == 0:\n",
    "        print(\"a - b = zero\")\n",
    "    else:\n",
    "        print(\"a - b = \" + str(sb))\n",
    "              \n",
    "    if pd == 0:\n",
    "        print(\"a * b = zero\")\n",
    "    else:\n",
    "        print(\"a * b = \" + str(pd))\n",
    "  \n",
    "    \n",
    "newfunction(3,5)\n",
    "newfunction(3,3)"
   ]
  },
  {
   "cell_type": "code",
   "execution_count": null,
   "id": "80f26fb6",
   "metadata": {},
   "outputs": [],
   "source": []
  }
 ],
 "metadata": {
  "kernelspec": {
   "display_name": "Python 3 (ipykernel)",
   "language": "python",
   "name": "python3"
  },
  "language_info": {
   "codemirror_mode": {
    "name": "ipython",
    "version": 3
   },
   "file_extension": ".py",
   "mimetype": "text/x-python",
   "name": "python",
   "nbconvert_exporter": "python",
   "pygments_lexer": "ipython3",
   "version": "3.9.7"
  }
 },
 "nbformat": 4,
 "nbformat_minor": 5
}
